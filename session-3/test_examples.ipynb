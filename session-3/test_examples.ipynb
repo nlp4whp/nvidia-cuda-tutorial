{
 "cells": [
  {
   "cell_type": "code",
   "execution_count": 2,
   "id": "a772cf9a-899a-42d9-8e1d-2302573d9c70",
   "metadata": {},
   "outputs": [
    {
     "name": "stdout",
     "output_type": "stream",
     "text": [
      "Using version \u001b[1m^11.1.0\u001b[0m for \u001b[36mcupy\u001b[0m\n",
      "\n",
      "\u001b[34mUpdating dependencies\u001b[0m\n",
      "\u001b[2K\u001b[34mResolving dependencies...\u001b[0m \u001b[39;2m(35.5s)\u001b[0m[34mResolving dependencies...\u001b[0m \u001b[39;2m(3.6s)\u001b[0m\u001b[34mResolving dependencies...\u001b[0m \u001b[39;2m(8.2s)\u001b[0m\u001b[34mResolving dependencies...\u001b[0m \u001b[39;2m(12.6s)\u001b[0m\u001b[34mResolving dependencies...\u001b[0m \u001b[39;2m(14.4s)\u001b[0m\u001b[34mResolving dependencies...\u001b[0m \u001b[39;2m(21.3s)\u001b[0m\u001b[34mResolving dependencies...\u001b[0m \u001b[39;2m(25.8s)\u001b[0m\n",
      "\n",
      "\u001b[34mWriting lock file\u001b[0m\n",
      "\n",
      "\u001b[1mPackage operations\u001b[0m: \u001b[34m2\u001b[0m installs, \u001b[34m0\u001b[0m updates, \u001b[34m0\u001b[0m removals\n",
      "\n",
      "  \u001b[34;1m•\u001b[0m \u001b[39mInstalling \u001b[0m\u001b[36mfastrlock\u001b[0m\u001b[39m (\u001b[0m\u001b[39;1m0.8\u001b[0m\u001b[39m)\u001b[0m: \u001b[34mPending...\u001b[0m\n",
      "\u001b[1A\u001b[0J  \u001b[34;1m•\u001b[0m \u001b[39mInstalling \u001b[0m\u001b[36mfastrlock\u001b[0m\u001b[39m (\u001b[0m\u001b[39;1m0.8\u001b[0m\u001b[39m)\u001b[0m: \u001b[34mDownloading...\u001b[0m \u001b[1m0%\u001b[0m\n",
      "\u001b[1A\u001b[0J  \u001b[34;1m•\u001b[0m \u001b[39mInstalling \u001b[0m\u001b[36mfastrlock\u001b[0m\u001b[39m (\u001b[0m\u001b[39;1m0.8\u001b[0m\u001b[39m)\u001b[0m: \u001b[34mDownloading...\u001b[0m \u001b[1m100%\u001b[0m\n",
      "\u001b[1A\u001b[0J  \u001b[34;1m•\u001b[0m \u001b[39mInstalling \u001b[0m\u001b[36mfastrlock\u001b[0m\u001b[39m (\u001b[0m\u001b[39;1m0.8\u001b[0m\u001b[39m)\u001b[0m: \u001b[34mDownloading...\u001b[0m \u001b[1m100%\u001b[0m\n",
      "\u001b[1A\u001b[0J  \u001b[34;1m•\u001b[0m \u001b[39mInstalling \u001b[0m\u001b[36mfastrlock\u001b[0m\u001b[39m (\u001b[0m\u001b[39;1m0.8\u001b[0m\u001b[39m)\u001b[0m: \u001b[34mInstalling...\u001b[0m\n",
      "\u001b[1A\u001b[0J  \u001b[32;1m•\u001b[0m \u001b[39mInstalling \u001b[0m\u001b[36mfastrlock\u001b[0m\u001b[39m (\u001b[0m\u001b[32m0.8\u001b[0m\u001b[39m)\u001b[0m\n",
      "  \u001b[34;1m•\u001b[0m \u001b[39mInstalling \u001b[0m\u001b[36mcupy\u001b[0m\u001b[39m (\u001b[0m\u001b[39;1m11.1.0\u001b[0m\u001b[39m)\u001b[0m: \u001b[34mPending...\u001b[0m\n",
      "\u001b[1A\u001b[0J  \u001b[34;1m•\u001b[0m \u001b[39mInstalling \u001b[0m\u001b[36mcupy\u001b[0m\u001b[39m (\u001b[0m\u001b[39;1m11.1.0\u001b[0m\u001b[39m)\u001b[0m: \u001b[34mDownloading...\u001b[0m \u001b[1m0%\u001b[0m\n",
      "\u001b[1A\u001b[0J  \u001b[34;1m•\u001b[0m \u001b[39mInstalling \u001b[0m\u001b[36mcupy\u001b[0m\u001b[39m (\u001b[0m\u001b[39;1m11.1.0\u001b[0m\u001b[39m)\u001b[0m: \u001b[34mDownloading...\u001b[0m \u001b[1m50%\u001b[0m\n",
      "\u001b[1A\u001b[0J  \u001b[34;1m•\u001b[0m \u001b[39mInstalling \u001b[0m\u001b[36mcupy\u001b[0m\u001b[39m (\u001b[0m\u001b[39;1m11.1.0\u001b[0m\u001b[39m)\u001b[0m: \u001b[34mDownloading...\u001b[0m \u001b[1m70%\u001b[0m\n",
      "\u001b[1A\u001b[0J  \u001b[34;1m•\u001b[0m \u001b[39mInstalling \u001b[0m\u001b[36mcupy\u001b[0m\u001b[39m (\u001b[0m\u001b[39;1m11.1.0\u001b[0m\u001b[39m)\u001b[0m: \u001b[34mDownloading...\u001b[0m \u001b[1m100%\u001b[0m\n",
      "\u001b[1A\u001b[0J  \u001b[34;1m•\u001b[0m \u001b[39mInstalling \u001b[0m\u001b[36mcupy\u001b[0m\u001b[39m (\u001b[0m\u001b[39;1m11.1.0\u001b[0m\u001b[39m)\u001b[0m: \u001b[34mDownloading...\u001b[0m \u001b[1m100%\u001b[0m\n",
      "\u001b[1A\u001b[0J  \u001b[34;1m•\u001b[0m \u001b[39mInstalling \u001b[0m\u001b[36mcupy\u001b[0m\u001b[39m (\u001b[0m\u001b[39;1m11.1.0\u001b[0m\u001b[39m)\u001b[0m: \u001b[34mInstalling...\u001b[0m\n",
      "\u001b[1A\u001b[0J  \u001b[32;1m•\u001b[0m \u001b[39mInstalling \u001b[0m\u001b[36mcupy\u001b[0m\u001b[39m (\u001b[0m\u001b[32m11.1.0\u001b[0m\u001b[39m)\u001b[0m\n"
     ]
    }
   ],
   "source": [
    "!poetry add -D cupy"
   ]
  },
  {
   "cell_type": "code",
   "execution_count": 3,
   "id": "68b3fb1a-d127-4766-bd6c-3bb756284668",
   "metadata": {},
   "outputs": [],
   "source": [
    "# An example CUDA Array Interface implementation that wraps a pointer provided\n",
    "# by cudaMalloc.\n",
    "\n",
    "from numba import cuda\n",
    "from ctypes import CDLL, POINTER, byref, c_void_p, c_size_t\n",
    "import cupy as cp"
   ]
  },
  {
   "cell_type": "code",
   "execution_count": 4,
   "id": "faf70c98-3c28-4aaa-acc8-0e7d3f22f943",
   "metadata": {},
   "outputs": [],
   "source": [
    "\n",
    "class MyArray:\n",
    "    def __init__(self, shape, typestr, data):\n",
    "        if isinstance(shape, int):\n",
    "            shape = (shape,)\n",
    "\n",
    "        self._shape = shape\n",
    "        self._data = data\n",
    "        self._typestr = typestr\n",
    "\n",
    "    @property\n",
    "    def __cuda_array_interface__(self):\n",
    "        return {\n",
    "            'shape': self._shape,\n",
    "            'typestr': self._typestr,\n",
    "            'data': (self._data, False),\n",
    "            'version': 2\n",
    "        }\n"
   ]
  },
  {
   "cell_type": "code",
   "execution_count": 5,
   "id": "90dbc33d-7aa5-4d87-ac5d-55541ef0e098",
   "metadata": {},
   "outputs": [],
   "source": [
    "\n",
    "\n",
    "# Use ctypes to get the cudaMalloc function from Python\n",
    "cudart = CDLL('libcudart.so')\n",
    "cudaMalloc = cudart.cudaMalloc\n",
    "cudaMalloc.argtypes = [POINTER(c_void_p), c_size_t]\n",
    "\n",
    "# Allocate some Numba-external memory with cudaMalloc\n",
    "ptr = c_void_p()\n",
    "float32_size = 4\n",
    "nelems = 32\n",
    "alloc_size = float32_size * nelems\n",
    "cudaMalloc(byref(ptr), alloc_size)\n",
    "\n",
    "# Wrap our memory in a CUDA Array Interface object\n",
    "arr = MyArray(nelems, 'f4', ptr.value)\n"
   ]
  },
  {
   "cell_type": "code",
   "execution_count": 7,
   "id": "dcd70421-eccf-4a26-bb7d-871516082fa7",
   "metadata": {},
   "outputs": [
    {
     "name": "stdout",
     "output_type": "stream",
     "text": [
      "[ 3.14  4.14  5.14  6.14  7.14  8.14  9.14 10.14 11.14 12.14 13.14 14.14\n",
      " 15.14 16.14 17.14 18.14 19.14 20.14 21.14 22.14 23.14 24.14 25.14 26.14\n",
      " 27.14 28.14 29.14 30.14 31.14 32.14 33.14 34.14]\n"
     ]
    },
    {
     "name": "stderr",
     "output_type": "stream",
     "text": [
      "/home/wanghaipeng/.cache/pypoetry/virtualenvs/cuda-player-a56oo6jf-py3.8/lib/python3.8/site-packages/numba/cuda/dispatcher.py:488: NumbaPerformanceWarning: Grid size 1 will likely result in GPU under-utilization due to low occupancy.\n",
      "  warn(NumbaPerformanceWarning(msg))\n"
     ]
    }
   ],
   "source": [
    "# Call a kernel on our object wrapping the pointer\n",
    "\n",
    "@cuda.jit\n",
    "def initialize(x):\n",
    "    i = cuda.grid(1)\n",
    "    if i < len(x):\n",
    "        x[i] = 3.14 + i\n",
    "\n",
    "\n",
    "initialize[1, nelems](arr)\n",
    "\n",
    "\n",
    "# Use CuPy for a convenient way to print our data to show that the kernel\n",
    "# initialized it\n",
    "print(cp.asarray(arr))\n"
   ]
  },
  {
   "cell_type": "code",
   "execution_count": null,
   "id": "e9069d66-7806-432f-84c4-4c021694db5a",
   "metadata": {},
   "outputs": [],
   "source": []
  }
 ],
 "metadata": {
  "kernelspec": {
   "display_name": "Python 3 (ipykernel)",
   "language": "python",
   "name": "python3"
  },
  "language_info": {
   "codemirror_mode": {
    "name": "ipython",
    "version": 3
   },
   "file_extension": ".py",
   "mimetype": "text/x-python",
   "name": "python",
   "nbconvert_exporter": "python",
   "pygments_lexer": "ipython3",
   "version": "3.8.13"
  }
 },
 "nbformat": 4,
 "nbformat_minor": 5
}
