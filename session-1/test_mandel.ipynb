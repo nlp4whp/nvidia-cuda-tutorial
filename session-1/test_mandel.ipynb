{
 "cells": [
  {
   "cell_type": "code",
   "execution_count": null,
   "id": "0e47905f-0093-462d-b248-d589e5315a50",
   "metadata": {},
   "outputs": [],
   "source": [
    "# !poetry add -D matplotlib"
   ]
  },
  {
   "cell_type": "code",
   "execution_count": null,
   "id": "97a3e046-cc49-4997-8f39-c182e73fef0e",
   "metadata": {},
   "outputs": [],
   "source": [
    "from timeit import default_timer as timer\n",
    "from matplotlib.pylab import imshow, show\n",
    "import numpy as np\n",
    "\n",
    "\n",
    "def mandelbrot(x, y, max_iters):\n",
    "    \"\"\"\n",
    "    Given the real and imaginary parts of a complex number,\n",
    "    determine if it is a candidate for membership in the Mandelbrot\n",
    "    set given a fixed number of iterations.\n",
    "    \"\"\"\n",
    "    i = 0\n",
    "    c = complex(x, y)\n",
    "    z = 0.0j\n",
    "    for i in range(max_iters):\n",
    "        z = z * z + c\n",
    "        if (z.real * z.real + z.imag * z.imag) >= 4:\n",
    "            return i\n",
    "\n",
    "    return 255\n",
    "\n",
    "\n",
    "def create_fractal(min_x, max_x, min_y, max_y, image, iters):\n",
    "    height = image.shape[0]\n",
    "    width = image.shape[1]\n",
    "\n",
    "    pixel_size_x = (max_x - min_x) / width\n",
    "    pixel_size_y = (max_y - min_y) / height\n",
    "    for x in range(width):\n",
    "        real = min_x + x * pixel_size_x\n",
    "        for y in range(height):\n",
    "            imag = min_y + y * pixel_size_y\n",
    "            color = mandelbrot(real, imag, iters)\n",
    "            image[y, x] = color"
   ]
  },
  {
   "cell_type": "code",
   "execution_count": null,
   "id": "041df728-1171-4f97-903d-2f46945283d2",
   "metadata": {},
   "outputs": [],
   "source": [
    "image = np.zeros((500 * 10, 750 * 10), dtype=np.uint8)"
   ]
  },
  {
   "cell_type": "code",
   "execution_count": null,
   "id": "1d7440ac-54b9-4108-b05e-5481332db131",
   "metadata": {},
   "outputs": [],
   "source": [
    "%%time\n",
    "\n",
    "create_fractal(-2.0, 1.0, -1.0, 1.0, image, 20)"
   ]
  },
  {
   "cell_type": "code",
   "execution_count": null,
   "id": "e6dfa21f-f117-4d5f-b872-01c427cbe782",
   "metadata": {},
   "outputs": [],
   "source": [
    "imshow(image)  # show()"
   ]
  },
  {
   "cell_type": "markdown",
   "id": "9f22e132-0d9e-42e7-89d3-a7911950f8f4",
   "metadata": {},
   "source": [
    "## Compiling with numba on CPU"
   ]
  },
  {
   "cell_type": "code",
   "execution_count": null,
   "id": "ae102a81-5f45-40f4-8050-cfb19a42e10f",
   "metadata": {},
   "outputs": [],
   "source": [
    "import numba as na\n",
    "\n",
    "@na.jit\n",
    "def mandelbrot_cpu(x, y, max_iters):\n",
    "    \"\"\"\n",
    "    Given the real and imaginary parts of a complex number,\n",
    "    determine if it is a candidate for membership in the Mandelbrot\n",
    "    set given a fixed number of iterations.\n",
    "    \"\"\"\n",
    "    i = 0\n",
    "    c = complex(x, y)\n",
    "    z = 0.0j\n",
    "    for i in range(max_iters):\n",
    "        z = z * z + c\n",
    "        if (z.real * z.real + z.imag * z.imag) >= 4:\n",
    "            return i\n",
    "\n",
    "    return 255\n",
    "\n",
    "@na.jit\n",
    "def create_fractal_cpu(min_x, max_x, min_y, max_y, image, iters):\n",
    "    height = image.shape[0]\n",
    "    width = image.shape[1]\n",
    "\n",
    "    pixel_size_x = (max_x - min_x) / width\n",
    "    pixel_size_y = (max_y - min_y) / height\n",
    "    for x in range(width):\n",
    "        real = min_x + x * pixel_size_x\n",
    "        for y in range(height):\n",
    "            imag = min_y + y * pixel_size_y\n",
    "            color = mandelbrot_cpu(real, imag, iters)\n",
    "            image[y, x] = color"
   ]
  },
  {
   "cell_type": "code",
   "execution_count": null,
   "id": "50872b42-e0e4-41bf-9fc8-3830dcfff215",
   "metadata": {},
   "outputs": [],
   "source": [
    "image_cpu = np.zeros((500 * 10, 750 * 10), dtype=np.uint8)"
   ]
  },
  {
   "cell_type": "code",
   "execution_count": null,
   "id": "075bcddd-369c-470a-bb9e-9588a5b54945",
   "metadata": {},
   "outputs": [],
   "source": [
    "%%time\n",
    "\n",
    "create_fractal_cpu(-2.0, 1.0, -1.0, 1.0, image_cpu, 20)"
   ]
  },
  {
   "cell_type": "code",
   "execution_count": null,
   "id": "629581b1-f7c9-4795-b522-1c85d6af98a7",
   "metadata": {},
   "outputs": [],
   "source": [
    "imshow(image_cpu)"
   ]
  },
  {
   "cell_type": "markdown",
   "id": "04b0aa27-08e7-4a97-980a-0d5da07b3fd8",
   "metadata": {},
   "source": [
    "## Compiling with numba on GPU"
   ]
  },
  {
   "cell_type": "code",
   "execution_count": null,
   "id": "6536f005-4ef4-4f9a-b157-e33ec2cb3be9",
   "metadata": {},
   "outputs": [],
   "source": [
    "from numba import cuda\n",
    "\n",
    "@cuda.jit(device=True)\n",
    "def mandelbrot_gpu(x, y, max_iters):\n",
    "    \"\"\"\n",
    "    Given the real and imaginary parts of a complex number,\n",
    "    determine if it is a candidate for membership in the Mandelbrot\n",
    "    set given a fixed number of iterations.\n",
    "    \"\"\"\n",
    "    i = 0\n",
    "    c = complex(x, y)\n",
    "    z = 0.0j\n",
    "    for i in range(max_iters):\n",
    "        z = z * z + c\n",
    "        if (z.real * z.real + z.imag * z.imag) >= 4:\n",
    "            return i\n",
    "\n",
    "    return 255\n",
    "\n",
    "@cuda.jit\n",
    "def create_fractal_gpu(min_x, max_x, min_y, max_y, image, iters):\n",
    "    height = image.shape[0]\n",
    "    width = image.shape[1]\n",
    "\n",
    "    pixel_size_x = (max_x - min_x) / width\n",
    "    pixel_size_y = (max_y - min_y) / height    \n",
    "\n",
    "    x, y = cuda.grid(2)\n",
    "\n",
    "    if x < width and y < height:\n",
    "        real = min_x + x * pixel_size_x\n",
    "        imag = min_y + y * pixel_size_y\n",
    "        color = mandelbrot_gpu(real, imag, iters)\n",
    "        image[y, x] = color"
   ]
  },
  {
   "cell_type": "code",
   "execution_count": null,
   "id": "7007bf3e-8b57-456e-9222-5ecfdf76254c",
   "metadata": {},
   "outputs": [],
   "source": [
    "image_gpu = np.zeros((500 * 10, 750 * 10), dtype=np.uint8)\n",
    "\n",
    "nthread = 32\n",
    "blockspergrid = (image_gpu.shape[1] // nthread + 1, image_gpu.shape[0] // nthread + 1)  # NOTE output `image` shaped as `(y, x)`"
   ]
  },
  {
   "cell_type": "code",
   "execution_count": null,
   "id": "7a9f4815-3ace-464e-bd51-eecc960d4160",
   "metadata": {},
   "outputs": [],
   "source": [
    "%%time\n",
    "\n",
    "create_fractal_gpu[blockspergrid, (nthread, nthread)](\n",
    "    -2.0, 1.0, -1.0, 1.0, image_gpu, 20\n",
    ")"
   ]
  },
  {
   "cell_type": "code",
   "execution_count": null,
   "id": "b1171db0-cfba-4a51-b01d-388256af6673",
   "metadata": {},
   "outputs": [],
   "source": [
    "imshow(image_gpu)"
   ]
  },
  {
   "cell_type": "markdown",
   "id": "ed3d59de-7e19-45e1-9b65-9133ea65045d",
   "metadata": {},
   "source": [
    "## Compiling as uFunc"
   ]
  },
  {
   "cell_type": "code",
   "execution_count": null,
   "id": "32e1286c-6502-4131-8fd4-5fe63836ec9f",
   "metadata": {},
   "outputs": [],
   "source": [
    "from numba import vectorize\n",
    "\n",
    "sig = \"uint8(uint32, f4, f4, f4, f4, uint32, uint32, uint32)\"\n",
    "\n",
    "\n",
    "@vectorize([sig], target=\"cuda\")\n",
    "def mandel(tid, min_x, max_x, min_y, max_y, width, height, iters):\n",
    "    pixel_size_x = (max_x - min_x) / width\n",
    "    pixel_size_y = (max_y - min_y) / height\n",
    "\n",
    "    x = tid % width  # 需要这里算坐标\n",
    "    y = tid / width\n",
    "\n",
    "    real = min_x + x * pixel_size_x\n",
    "    imag = min_y + y * pixel_size_y\n",
    "\n",
    "    c = complex(real, imag)\n",
    "    z = 0.0j\n",
    "\n",
    "    for i in range(iters):\n",
    "        z = z * z + c\n",
    "        if (z.real * z.real + z.imag * z.imag) >= 4:\n",
    "            return i\n",
    "    return 255\n",
    "\n",
    "\n",
    "def create_fractal_ufunc(min_x, max_x, min_y, max_y, width, height, iters):\n",
    "    tids = np.arange(width * height, dtype=np.uint32)\n",
    "    return mandel(\n",
    "        tids,\n",
    "        np.float32(min_x),\n",
    "        np.float32(max_x),\n",
    "        np.float32(min_y),\n",
    "        np.float32(max_y),\n",
    "        np.uint32(height),\n",
    "        np.uint32(width),\n",
    "        np.uint32(iters),\n",
    "    )"
   ]
  },
  {
   "cell_type": "code",
   "execution_count": null,
   "id": "606557db-7bd7-4c10-8b8d-d0b19e982cb4",
   "metadata": {},
   "outputs": [],
   "source": [
    "width, height = 500 * 10, 750 * 10\n",
    "image_ufunc = np.zeros((width, height), dtype=np.uint8)"
   ]
  },
  {
   "cell_type": "code",
   "execution_count": null,
   "id": "c6f7615b-0572-4b50-b717-adff65c07f46",
   "metadata": {},
   "outputs": [],
   "source": [
    "pixels = create_fractal_ufunc(-2.0, 1.0, -1.0, 1.0, width, height, 20)"
   ]
  },
  {
   "cell_type": "code",
   "execution_count": null,
   "id": "107f5022-fdfb-4f49-9c9c-05e555443db2",
   "metadata": {},
   "outputs": [],
   "source": [
    "imshow(pixels.reshape((width, height)))\n",
    "# mandel.functions"
   ]
  }
 ],
 "metadata": {
  "kernelspec": {
   "display_name": "Python 3 (ipykernel)",
   "language": "python",
   "name": "python3"
  },
  "language_info": {
   "codemirror_mode": {
    "name": "ipython",
    "version": 3
   },
   "file_extension": ".py",
   "mimetype": "text/x-python",
   "name": "python",
   "nbconvert_exporter": "python",
   "pygments_lexer": "ipython3",
   "version": "3.8.13"
  }
 },
 "nbformat": 4,
 "nbformat_minor": 5
}
